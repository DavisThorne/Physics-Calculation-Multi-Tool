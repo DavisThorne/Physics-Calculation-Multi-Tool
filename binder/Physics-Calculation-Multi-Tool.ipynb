{
 "cells": [
  {
   "cell_type": "code",
   "execution_count": 1,
   "id": "9e9837c5-9a74-4a4f-9bf9-39ba95ac95b7",
   "metadata": {
    "pycharm": {
     "name": "#%%\n"
    }
   },
   "outputs": [],
   "source": [
    "# -*- coding: utf-8 -*-\n",
    "\"\"\"\n",
    "Created on Thu Nov 10 22:11:06 2022\n",
    "\n",
    "This is an ongoing project, plans are to include a GUI and maybe other\n",
    "calculations to use this as a superscript for physics calculations\n",
    "\n",
    "@author: dskmgmt\n",
    "\"\"\"\n",
    "# Importing Libraries and other scripts\n",
    "import PySimpleGUI as sg\n",
    "import ProjectileMotion as projMot\n",
    "\n",
    "sg.theme('DarkAmber')  # Defining the theme of the window\n",
    "\n",
    "layout = [\n",
    "    [sg.Text('Physics Calculation Multi-Tool')],\n",
    "    [sg.Button('Projectile Motion')],\n",
    "    [sg.Button('Ok'), sg.Button('Exit')]\n",
    "]\n",
    "\n",
    "window = sg.Window('Select What Script',\n",
    "                   layout, )\n",
    "\n",
    "while True:\n",
    "    event, values = window.read()\n",
    "\n",
    "    if event == sg.WIN_CLOSED or event == 'Exit':  # if user closes window or clicks cancel\n",
    "        break\n",
    "\n",
    "    if event == 'Projectile Motion':\n",
    "        projMot.main()\n",
    "\n",
    "window.Close()\n"
   ]
  },
  {
   "cell_type": "code",
   "execution_count": 1,
   "outputs": [],
   "source": [],
   "metadata": {
    "collapsed": false,
    "pycharm": {
     "name": "#%%\n"
    }
   }
  },
  {
   "cell_type": "code",
   "execution_count": 1,
   "outputs": [],
   "source": [],
   "metadata": {
    "collapsed": false,
    "pycharm": {
     "name": "#%%\n"
    }
   }
  }
 ],
 "metadata": {
  "kernelspec": {
   "display_name": "Python 3 (ipykernel)",
   "language": "python",
   "name": "python3"
  },
  "language_info": {
   "codemirror_mode": {
    "name": "ipython",
    "version": 3
   },
   "file_extension": ".py",
   "mimetype": "text/x-python",
   "name": "python",
   "nbconvert_exporter": "python",
   "pygments_lexer": "ipython3",
   "version": "3.9.13"
  }
 },
 "nbformat": 4,
 "nbformat_minor": 5
}